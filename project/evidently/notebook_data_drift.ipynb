{
 "cells": [
  {
   "cell_type": "code",
   "execution_count": 1,
   "id": "6cbc32e4-98f1-4b96-899c-7ceb4503200a",
   "metadata": {},
   "outputs": [],
   "source": [
    "import pandas as pd\n",
    "import numpy as np\n",
    "\n",
    "from sklearn.datasets import fetch_california_housing\n",
    "\n",
    "from evidently import ColumnMapping\n",
    "\n",
    "from evidently.report import Report\n",
    "from evidently.metrics.base_metric import generate_column_metrics\n",
    "from evidently.metric_preset import DataDriftPreset, TargetDriftPreset\n",
    "from evidently.metrics import *\n",
    "\n",
    "#from evidently.test_suite import TestSuite\n",
    "#from evidently.tests.base_test import generate_column_tests\n",
    "#from evidently.test_preset import DataStabilityTestPreset, NoTargetPerformanceTestPreset\n",
    "#from evidently.tests import *"
   ]
  },
  {
   "cell_type": "code",
   "execution_count": null,
   "id": "48e306e8-87f3-46b7-8b5c-0a254808d360",
   "metadata": {},
   "outputs": [],
   "source": []
  }
 ],
 "metadata": {
  "kernelspec": {
   "display_name": "Python 3 (ipykernel)",
   "language": "python",
   "name": "python3"
  },
  "language_info": {
   "codemirror_mode": {
    "name": "ipython",
    "version": 3
   },
   "file_extension": ".py",
   "mimetype": "text/x-python",
   "name": "python",
   "nbconvert_exporter": "python",
   "pygments_lexer": "ipython3",
   "version": "3.11.7"
  }
 },
 "nbformat": 4,
 "nbformat_minor": 5
}
